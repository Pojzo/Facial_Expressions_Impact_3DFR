{
 "cells": [
  {
   "cell_type": "code",
   "execution_count": 92,
   "metadata": {},
   "outputs": [
    {
     "name": "stdout",
     "output_type": "stream",
     "text": [
      "Once deleted, variables cannot be recovered. Proceed (y/[n])? y\n"
     ]
    }
   ],
   "source": [
    "%reset\n",
    "\n",
    "import open3d as o3d"
   ]
  },
  {
   "cell_type": "code",
   "execution_count": 93,
   "metadata": {},
   "outputs": [
    {
     "data": {
      "text/plain": [
       "PointCloud with 1000 points."
      ]
     },
     "execution_count": 93,
     "metadata": {},
     "output_type": "execute_result"
    }
   ],
   "source": [
    "test_path = r\"C:\\Users\\pojzi\\Programovanie\\bakalarka\\impact_recognition\\data\\neutral_images_3d\\CFD-AF-200-228-N\\CFD-AF-200-228-N.obj\"\n",
    "mesh = o3d.io.read_triangle_mesh(test_path)\n",
    "point_cloud = mesh.sample_points_uniformly(number_of_points=1000)\n",
    "point_cloud\n"
   ]
  },
  {
   "cell_type": "code",
   "execution_count": 94,
   "metadata": {},
   "outputs": [],
   "source": [
    "o3d.visualization.draw_geometries([point_cloud])\n"
   ]
  },
  {
   "cell_type": "code",
   "execution_count": 95,
   "metadata": {},
   "outputs": [],
   "source": [
    "import numpy as np"
   ]
  },
  {
   "cell_type": "code",
   "execution_count": 96,
   "metadata": {},
   "outputs": [],
   "source": [
    "array = np.asarray(point_cloud.points)"
   ]
  },
  {
   "cell_type": "code",
   "execution_count": 98,
   "metadata": {},
   "outputs": [],
   "source": [
    "import os\n",
    "import open3d as o3d\n",
    "import numpy as np\n",
    "\n",
    "class obj2pcl: \n",
    "    @staticmethod\n",
    "    def convert(path, num_points=10000, ouput_name=None):\n",
    "        if not os.path.exists(path):\n",
    "            raise FileNotFoundError(\"The path does to the source .obj file does not exist\")\n",
    "        \n",
    "        mesh = o3d.io.read_triangle_mesh(path)\n",
    "        point_cloud = mesh.sample_points_uniformly(number_of_points=num_points)\n",
    "        \n",
    "        return point_cloud, np.asarray(point_cloud.points)"
   ]
  },
  {
   "cell_type": "code",
   "execution_count": 99,
   "metadata": {},
   "outputs": [
    {
     "data": {
      "text/plain": [
       "['.ipynb_checkpoints',\n",
       " '3DFacePointCloudNet',\n",
       " 'code',\n",
       " 'DECA',\n",
       " 'images',\n",
       " 'impact_recognition',\n",
       " 'papers_bakalarka',\n",
       " 'pointnet2',\n",
       " 'Pointnet2_PyTorch',\n",
       " 'PointNeXt',\n",
       " 'test',\n",
       " 'xd.txt']"
      ]
     },
     "execution_count": 99,
     "metadata": {},
     "output_type": "execute_result"
    }
   ],
   "source": [
    "import os\n",
    "os.listdir(\"../../\")"
   ]
  },
  {
   "cell_type": "code",
   "execution_count": 116,
   "metadata": {},
   "outputs": [
    {
     "name": "stdout",
     "output_type": "stream",
     "text": [
      "launch mp with 1 GPUs, current rank: 0\n"
     ]
    },
    {
     "ename": "FileNotFoundError",
     "evalue": "[Errno 2] No such file or directory: 'C:/Users/pojzi/Programovanie/bakalarka/impact_recognition/data/log/cfgs/modelnet40ply2048/cfgs/modelnet40ply2048-train-pointnext-s-ngpus1-seed4489-20240417-153125-mELZWxbwHoF4r52TKVQmer/cfgs/modelnet40ply2048-train-pointnext-s-ngpus1-seed4489-20240417-153125-mELZWxbwHoF4r52TKVQmer.log'",
     "output_type": "error",
     "traceback": [
      "\u001b[1;31m---------------------------------------------------------------------------\u001b[0m",
      "\u001b[1;31mFileNotFoundError\u001b[0m                         Traceback (most recent call last)",
      "\u001b[1;32m~\\AppData\\Local\\Temp\\ipykernel_10148\\2769604769.py\u001b[0m in \u001b[0;36m<module>\u001b[1;34m\u001b[0m\n\u001b[0;32m     78\u001b[0m     \u001b[0mcfg\u001b[0m\u001b[1;33m.\u001b[0m\u001b[0mlog_path\u001b[0m \u001b[1;33m=\u001b[0m \u001b[0mos\u001b[0m\u001b[1;33m.\u001b[0m\u001b[0mpath\u001b[0m\u001b[1;33m.\u001b[0m\u001b[0mjoin\u001b[0m\u001b[1;33m(\u001b[0m\u001b[0mos\u001b[0m\u001b[1;33m.\u001b[0m\u001b[0mgetcwd\u001b[0m\u001b[1;33m(\u001b[0m\u001b[1;33m)\u001b[0m\u001b[1;33m,\u001b[0m \u001b[0mcfg\u001b[0m\u001b[1;33m.\u001b[0m\u001b[0mlog_path\u001b[0m\u001b[1;33m)\u001b[0m\u001b[1;33m.\u001b[0m\u001b[0mreplace\u001b[0m\u001b[1;33m(\u001b[0m\u001b[1;34m\"\\\\\"\u001b[0m\u001b[1;33m,\u001b[0m \u001b[1;34m\"/\"\u001b[0m\u001b[1;33m)\u001b[0m\u001b[1;33m\u001b[0m\u001b[1;33m\u001b[0m\u001b[0m\n\u001b[0;32m     79\u001b[0m \u001b[1;33m\u001b[0m\u001b[0m\n\u001b[1;32m---> 80\u001b[1;33m     \u001b[0mmodel\u001b[0m \u001b[1;33m=\u001b[0m \u001b[0mmain\u001b[0m\u001b[1;33m(\u001b[0m\u001b[1;36m0\u001b[0m\u001b[1;33m,\u001b[0m \u001b[0mcfg\u001b[0m\u001b[1;33m,\u001b[0m \u001b[0mprofile\u001b[0m\u001b[1;33m=\u001b[0m\u001b[0margs\u001b[0m\u001b[1;33m.\u001b[0m\u001b[0mprofile\u001b[0m\u001b[1;33m)\u001b[0m\u001b[1;33m\u001b[0m\u001b[1;33m\u001b[0m\u001b[0m\n\u001b[0m",
      "\u001b[1;32m~\\Programovanie\\bakalarka\\PointNeXt\\examples\\classification\\train.py\u001b[0m in \u001b[0;36mmain\u001b[1;34m(gpu, cfg, profile)\u001b[0m\n\u001b[0;32m     58\u001b[0m         \u001b[0mdist\u001b[0m\u001b[1;33m.\u001b[0m\u001b[0mbarrier\u001b[0m\u001b[1;33m(\u001b[0m\u001b[1;33m)\u001b[0m\u001b[1;33m\u001b[0m\u001b[1;33m\u001b[0m\u001b[0m\n\u001b[0;32m     59\u001b[0m     \u001b[1;31m# logger\u001b[0m\u001b[1;33m\u001b[0m\u001b[1;33m\u001b[0m\u001b[1;33m\u001b[0m\u001b[0m\n\u001b[1;32m---> 60\u001b[1;33m     \u001b[0msetup_logger_dist\u001b[0m\u001b[1;33m(\u001b[0m\u001b[0mcfg\u001b[0m\u001b[1;33m.\u001b[0m\u001b[0mlog_path\u001b[0m\u001b[1;33m,\u001b[0m \u001b[0mcfg\u001b[0m\u001b[1;33m.\u001b[0m\u001b[0mrank\u001b[0m\u001b[1;33m,\u001b[0m \u001b[0mname\u001b[0m\u001b[1;33m=\u001b[0m\u001b[0mcfg\u001b[0m\u001b[1;33m.\u001b[0m\u001b[0mdataset\u001b[0m\u001b[1;33m.\u001b[0m\u001b[0mcommon\u001b[0m\u001b[1;33m.\u001b[0m\u001b[0mNAME\u001b[0m\u001b[1;33m)\u001b[0m\u001b[1;33m\u001b[0m\u001b[1;33m\u001b[0m\u001b[0m\n\u001b[0m\u001b[0;32m     61\u001b[0m     \u001b[1;32mif\u001b[0m \u001b[0mcfg\u001b[0m\u001b[1;33m.\u001b[0m\u001b[0mrank\u001b[0m \u001b[1;33m==\u001b[0m \u001b[1;36m0\u001b[0m \u001b[1;33m:\u001b[0m\u001b[1;33m\u001b[0m\u001b[1;33m\u001b[0m\u001b[0m\n\u001b[0;32m     62\u001b[0m         \u001b[0mWandb\u001b[0m\u001b[1;33m.\u001b[0m\u001b[0mlaunch\u001b[0m\u001b[1;33m(\u001b[0m\u001b[0mcfg\u001b[0m\u001b[1;33m,\u001b[0m \u001b[0mcfg\u001b[0m\u001b[1;33m.\u001b[0m\u001b[0mwandb\u001b[0m\u001b[1;33m.\u001b[0m\u001b[0muse_wandb\u001b[0m\u001b[1;33m)\u001b[0m\u001b[1;33m\u001b[0m\u001b[1;33m\u001b[0m\u001b[0m\n",
      "\u001b[1;32m~\\Programovanie\\bakalarka\\PointNeXt\\examples\\classification\\../..\\openpoints\\utils\\logger.py\u001b[0m in \u001b[0;36msetup_logger_dist\u001b[1;34m(output, distributed_rank, color, name, abbrev_name)\u001b[0m\n\u001b[0;32m     86\u001b[0m         \u001b[0mos\u001b[0m\u001b[1;33m.\u001b[0m\u001b[0mmakedirs\u001b[0m\u001b[1;33m(\u001b[0m\u001b[0mos\u001b[0m\u001b[1;33m.\u001b[0m\u001b[0mpath\u001b[0m\u001b[1;33m.\u001b[0m\u001b[0mdirname\u001b[0m\u001b[1;33m(\u001b[0m\u001b[0mfilename\u001b[0m\u001b[1;33m)\u001b[0m\u001b[1;33m,\u001b[0m \u001b[0mexist_ok\u001b[0m\u001b[1;33m=\u001b[0m\u001b[1;32mTrue\u001b[0m\u001b[1;33m)\u001b[0m\u001b[1;33m\u001b[0m\u001b[1;33m\u001b[0m\u001b[0m\n\u001b[0;32m     87\u001b[0m \u001b[1;33m\u001b[0m\u001b[0m\n\u001b[1;32m---> 88\u001b[1;33m         \u001b[0mfh\u001b[0m \u001b[1;33m=\u001b[0m \u001b[0mlogging\u001b[0m\u001b[1;33m.\u001b[0m\u001b[0mStreamHandler\u001b[0m\u001b[1;33m(\u001b[0m\u001b[0m_cached_log_stream\u001b[0m\u001b[1;33m(\u001b[0m\u001b[0mfilename\u001b[0m\u001b[1;33m)\u001b[0m\u001b[1;33m)\u001b[0m\u001b[1;33m\u001b[0m\u001b[1;33m\u001b[0m\u001b[0m\n\u001b[0m\u001b[0;32m     89\u001b[0m         \u001b[0mfh\u001b[0m\u001b[1;33m.\u001b[0m\u001b[0msetLevel\u001b[0m\u001b[1;33m(\u001b[0m\u001b[0mlogging\u001b[0m\u001b[1;33m.\u001b[0m\u001b[0mDEBUG\u001b[0m\u001b[1;33m)\u001b[0m\u001b[1;33m\u001b[0m\u001b[1;33m\u001b[0m\u001b[0m\n\u001b[0;32m     90\u001b[0m         \u001b[0mfh\u001b[0m\u001b[1;33m.\u001b[0m\u001b[0msetFormatter\u001b[0m\u001b[1;33m(\u001b[0m\u001b[0mplain_formatter\u001b[0m\u001b[1;33m)\u001b[0m\u001b[1;33m\u001b[0m\u001b[1;33m\u001b[0m\u001b[0m\n",
      "\u001b[1;32m~\\Programovanie\\bakalarka\\PointNeXt\\examples\\classification\\../..\\openpoints\\utils\\logger.py\u001b[0m in \u001b[0;36m_cached_log_stream\u001b[1;34m(filename)\u001b[0m\n\u001b[0;32m     98\u001b[0m \u001b[1;33m@\u001b[0m\u001b[0mfunctools\u001b[0m\u001b[1;33m.\u001b[0m\u001b[0mlru_cache\u001b[0m\u001b[1;33m(\u001b[0m\u001b[0mmaxsize\u001b[0m\u001b[1;33m=\u001b[0m\u001b[1;32mNone\u001b[0m\u001b[1;33m)\u001b[0m\u001b[1;33m\u001b[0m\u001b[1;33m\u001b[0m\u001b[0m\n\u001b[0;32m     99\u001b[0m \u001b[1;32mdef\u001b[0m \u001b[0m_cached_log_stream\u001b[0m\u001b[1;33m(\u001b[0m\u001b[0mfilename\u001b[0m\u001b[1;33m)\u001b[0m\u001b[1;33m:\u001b[0m\u001b[1;33m\u001b[0m\u001b[1;33m\u001b[0m\u001b[0m\n\u001b[1;32m--> 100\u001b[1;33m     \u001b[1;32mreturn\u001b[0m \u001b[0mopen\u001b[0m\u001b[1;33m(\u001b[0m\u001b[0mfilename\u001b[0m\u001b[1;33m,\u001b[0m \u001b[1;34m\"a\"\u001b[0m\u001b[1;33m)\u001b[0m\u001b[1;33m\u001b[0m\u001b[1;33m\u001b[0m\u001b[0m\n\u001b[0m\u001b[0;32m    101\u001b[0m \u001b[1;33m\u001b[0m\u001b[0m\n\u001b[0;32m    102\u001b[0m \u001b[1;33m\u001b[0m\u001b[0m\n",
      "\u001b[1;31mFileNotFoundError\u001b[0m: [Errno 2] No such file or directory: 'C:/Users/pojzi/Programovanie/bakalarka/impact_recognition/data/log/cfgs/modelnet40ply2048/cfgs/modelnet40ply2048-train-pointnext-s-ngpus1-seed4489-20240417-153125-mELZWxbwHoF4r52TKVQmer/cfgs/modelnet40ply2048-train-pointnext-s-ngpus1-seed4489-20240417-153125-mELZWxbwHoF4r52TKVQmer.log'"
     ]
    }
   ],
   "source": [
    "import __init__\n",
    "import os, argparse, yaml, numpy as np\n",
    "import sys\n",
    "sys.path.append(\"C:\\\\Users\\\\pojzi\\\\Programovanie\\\\bakalarka\\\\PointNeXt\\\\\")\n",
    "                \n",
    "from torch import multiprocessing as mp\n",
    "from examples.classification.train import main as train\n",
    "from examples.classification.pretrain import main as pretrain\n",
    "from openpoints.utils import EasyConfig, dist_utils, find_free_port, generate_exp_directory, resume_exp_directory, Wandb\n",
    "import sys\n",
    "\n",
    "\n",
    "parser = argparse.ArgumentParser('S3DIS scene segmentation training')\n",
    "# parser.add_argument('--cfg', type=str, required=True, help='config file')\n",
    "# parser.add_argument('--profile', action='store_true', default=False, help='set to True to profile speed')\n",
    "args, opts = parser.parse_known_args()\n",
    "\n",
    "args.cfg = r\"C:/Users/pojzi/Programovanie/bakalarka/PointNeXt/cfgs\\modelnet40ply2048\" + r\"/pointnext-s.yaml\"\n",
    "args.profile = False\n",
    "\n",
    "cfg = EasyConfig()\n",
    "\n",
    "cfg.load(args.cfg, recursive=True)\n",
    "cfg.update(opts)\n",
    "if cfg.seed is None:\n",
    "    cfg.seed = np.random.randint(1, 10000)\n",
    "\n",
    "# init distributed env first, since logger depends on the dist info.\n",
    "cfg.rank, cfg.world_size, cfg.distributed, cfg.mp = dist_utils.get_dist_info(cfg)\n",
    "cfg.sync_bn = cfg.world_size > 1\n",
    "\n",
    "# init log dir\n",
    "cfg.task_name = args.cfg.split('.')[-2].split('/')[-2]\n",
    "cfg.exp_name = args.cfg.split('.')[-2].split('/')[-1]\n",
    "tags = [\n",
    "    cfg.task_name,  # task name (the folder of name under ./cfgs\n",
    "    cfg.mode,\n",
    "    cfg.exp_name,  # cfg file name\n",
    "    f'ngpus{cfg.world_size}',\n",
    "    f'seed{cfg.seed}',\n",
    "]\n",
    "opt_list = [] # for checking experiment configs from logging file\n",
    "for i, opt in enumerate(opts):\n",
    "    if 'rank' not in opt and 'dir' not in opt and 'root' not in opt and 'pretrain' not in opt and 'path' not in opt and 'wandb' not in opt and '/' not in opt:\n",
    "        opt_list.append(opt)\n",
    "cfg.root_dir = os.path.join(cfg.root_dir, cfg.task_name)\n",
    "cfg.opts = '-'.join(opt_list)\n",
    "\n",
    "# added here \n",
    "# cfg.mode = 'test'\n",
    "if cfg.mode in ['resume', 'val', 'test']:\n",
    "    resume_exp_directory(cfg, pretrained_path=cfg.pretrained_path)\n",
    "    cfg.wandb.tags = [cfg.mode]\n",
    "else:  # resume from the existing ckpt and reuse the folder.\n",
    "    generate_exp_directory(cfg, tags, additional_id=os.environ.get('MASTER_PORT', None))\n",
    "    cfg.wandb.tags = tags\n",
    "os.environ[\"JOB_LOG_DIR\"] = cfg.log_dir\n",
    "cfg_path = os.path.join(cfg.run_dir, \"cfg.yaml\")\n",
    "with open(cfg_path, 'w') as f:\n",
    "    yaml.dump(cfg, f, indent=2)\n",
    "    os.system('copy {} {}'.format(args.cfg, cfg.run_dir))\n",
    "\n",
    "cfg.cfg_path = cfg_path\n",
    "cfg.wandb.name = cfg.run_name\n",
    "\n",
    "if cfg.mode == 'pretrain':\n",
    "    main = pretrain\n",
    "else:\n",
    "    main = train\n",
    "\n",
    "# multi processing.\n",
    "if cfg.mp:\n",
    "    port = find_free_port()\n",
    "    cfg.dist_url = f\"tcp://localhost:{port}\"\n",
    "    print('using mp spawn for distributed training')\n",
    "    mp.spawn(main, nprocs=cfg.world_size, args=(cfg, args.profile))\n",
    "else:\n",
    "    cfg.log_path = os.path.join(os.getcwd(), cfg.log_path).replace(\"\\\\\", \"/\")\n",
    "    \n",
    "    model = main(0, cfg, profile=args.profile)"
   ]
  },
  {
   "cell_type": "code",
   "execution_count": 106,
   "metadata": {},
   "outputs": [
    {
     "data": {
      "text/plain": [
       "['C:\\\\Users\\\\pojzi\\\\Programovanie\\\\bakalarka\\\\PointNeXt\\\\cfgs\\\\modelnet40ply2048\\\\pointnext-s',\n",
       " 'yaml']"
      ]
     },
     "execution_count": 106,
     "metadata": {},
     "output_type": "execute_result"
    }
   ],
   "source": [
    "args.cfg.split('.')"
   ]
  },
  {
   "cell_type": "code",
   "execution_count": 88,
   "metadata": {},
   "outputs": [
    {
     "ename": "FileNotFoundError",
     "evalue": "[WinError 3] The system cannot find the path specified: 'C:\\\\Users\\\\pojzi\\\\Programovanie\\\\bakalarka\\\\PointNeXt\\\\examples\\\\classification\\\\log\\\\modelnet40ply2048\\\\modelnet40ply2048-train-pointnext-s-ngpus1-seed350-20240417-104017-X2664SgbpVBX4cd5W3vCPm'",
     "output_type": "error",
     "traceback": [
      "\u001b[1;31m---------------------------------------------------------------------------\u001b[0m",
      "\u001b[1;31mFileNotFoundError\u001b[0m                         Traceback (most recent call last)",
      "\u001b[1;32m~\\AppData\\Local\\Temp\\ipykernel_10148\\2933185467.py\u001b[0m in \u001b[0;36m<module>\u001b[1;34m\u001b[0m\n\u001b[0;32m      1\u001b[0m \u001b[0mlog_path\u001b[0m \u001b[1;33m=\u001b[0m \u001b[1;34mr\"C:\\Users\\pojzi\\Programovanie\\bakalarka\\PointNeXt\\examples\\classification\\log\\modelnet40ply2048\\modelnet40ply2048-train-pointnext-s-ngpus1-seed350-20240417-104017-X2664SgbpVBX4cd5W3vCPm\"\u001b[0m\u001b[1;33m\u001b[0m\u001b[1;33m\u001b[0m\u001b[0m\n\u001b[1;32m----> 2\u001b[1;33m \u001b[0mlog_file\u001b[0m \u001b[1;33m=\u001b[0m \u001b[0mlist\u001b[0m\u001b[1;33m(\u001b[0m\u001b[0mfilter\u001b[0m\u001b[1;33m(\u001b[0m\u001b[1;32mlambda\u001b[0m \u001b[0mx\u001b[0m\u001b[1;33m:\u001b[0m \u001b[0mx\u001b[0m\u001b[1;33m.\u001b[0m\u001b[0mendswith\u001b[0m\u001b[1;33m(\u001b[0m\u001b[1;34m\"log\"\u001b[0m\u001b[1;33m)\u001b[0m\u001b[1;33m,\u001b[0m \u001b[0mos\u001b[0m\u001b[1;33m.\u001b[0m\u001b[0mlistdir\u001b[0m\u001b[1;33m(\u001b[0m\u001b[0mlog_path\u001b[0m\u001b[1;33m)\u001b[0m\u001b[1;33m)\u001b[0m\u001b[1;33m)\u001b[0m\u001b[1;33m[\u001b[0m\u001b[1;36m0\u001b[0m\u001b[1;33m]\u001b[0m\u001b[1;33m\u001b[0m\u001b[1;33m\u001b[0m\u001b[0m\n\u001b[0m\u001b[0;32m      3\u001b[0m \u001b[1;33m\u001b[0m\u001b[0m\n\u001b[0;32m      4\u001b[0m \u001b[0mfull_path\u001b[0m \u001b[1;33m=\u001b[0m \u001b[0mos\u001b[0m\u001b[1;33m.\u001b[0m\u001b[0mpath\u001b[0m\u001b[1;33m.\u001b[0m\u001b[0mjoin\u001b[0m\u001b[1;33m(\u001b[0m\u001b[0mlog_path\u001b[0m\u001b[1;33m,\u001b[0m \u001b[0mlog_file\u001b[0m\u001b[1;33m)\u001b[0m\u001b[1;33m\u001b[0m\u001b[1;33m\u001b[0m\u001b[0m\n\u001b[0;32m      5\u001b[0m \u001b[0mprint\u001b[0m\u001b[1;33m(\u001b[0m\u001b[0mfull_path\u001b[0m\u001b[1;33m)\u001b[0m\u001b[1;33m\u001b[0m\u001b[1;33m\u001b[0m\u001b[0m\n",
      "\u001b[1;31mFileNotFoundError\u001b[0m: [WinError 3] The system cannot find the path specified: 'C:\\\\Users\\\\pojzi\\\\Programovanie\\\\bakalarka\\\\PointNeXt\\\\examples\\\\classification\\\\log\\\\modelnet40ply2048\\\\modelnet40ply2048-train-pointnext-s-ngpus1-seed350-20240417-104017-X2664SgbpVBX4cd5W3vCPm'"
     ]
    }
   ],
   "source": [
    "log_path = r\"C:\\Users\\pojzi\\Programovanie\\bakalarka\\PointNeXt\\examples\\classification\\log\\modelnet40ply2048\\modelnet40ply2048-train-pointnext-s-ngpus1-seed350-20240417-104017-X2664SgbpVBX4cd5W3vCPm\"\n",
    "log_file = list(filter(lambda x: x.endswith(\"log\"), os.listdir(log_path)))[0]\n",
    "\n",
    "full_path = os.path.join(log_path, log_file)\n",
    "print(full_path)"
   ]
  },
  {
   "cell_type": "code",
   "execution_count": 79,
   "metadata": {},
   "outputs": [
    {
     "data": {
      "text/plain": [
       "False"
      ]
     },
     "execution_count": 79,
     "metadata": {},
     "output_type": "execute_result"
    }
   ],
   "source": [
    "os.path.exists(\"C:/Users/pojzi/Programovanie/bakalarka/PointNeXt/examples/classification/log/modelnet40ply2048/modelnet40ply2048-train-pointnext-s-ngpus1-seed4240-20240417-150141-bZZkVVuJsoydXWMmaxnoVc/last_log.log\")"
   ]
  },
  {
   "cell_type": "code",
   "execution_count": 68,
   "metadata": {},
   "outputs": [
    {
     "name": "stdout",
     "output_type": "stream",
     "text": [
      "[04/17 10:40:17] ModelNet40Ply2048 INFO: dist_url: tcp://localhost:8888\n",
      "dist_backend: nccl\n",
      "multiprocessing_distributed: False\n",
      "ngpus_per_node: 1\n",
      "world_size: 1\n",
      "launcher: mp\n",
      "local_rank: 0\n",
      "use_gpu: True\n",
      "seed: 350\n",
      "epoch: 0\n",
      "epochs: 600\n",
      "ignore_index: None\n",
      "val_fn: validate\n",
      "deterministic: False\n",
      "sync_bn: False\n",
      "criterion_args:\n",
      "  NAME: SmoothCrossEntropy\n",
      "  label_smoothing: 0.2\n",
      "use_mask: False\n",
      "grad_norm_clip: 1\n",
      "layer_decay: 0\n",
      "step_per_update: 1\n",
      "start_epoch: 1\n",
      "sched_on_epoch: True\n",
      "wandb:\n",
      "  use_wandb: False\n",
      "  project: PointNeXt-ModelNet40Ply2048\n",
      "  tags: ['modelnet40ply2048', 'train', 'pointnext-s', 'ngpus1', 'seed350']\n",
      "  name: modelnet40ply2048-train-pointnext-s-ngpus1-seed350-20240417-104017-X2664SgbpVBX4cd5W3vCPm\n",
      "use_amp: False\n",
      "use_voting: False\n",
      "val_freq: 1\n",
      "resume: False\n",
      "test: False\n",
      "finetune: False\n",
      "mode: train\n",
      "logname: None\n",
      "load_path: None\n",
      "print_freq: 10\n",
      "save_freq: -1\n",
      "root_dir: log/modelnet40ply2048\n",
      "pretrained_path: None\n",
      "datatransforms:\n",
      "  train: ['PointsToTensor', 'PointCloudScaleAndTranslate']\n",
      "  val: ['PointsToTensor']\n",
      "  vote: ['PointCloudScaleAndTranslate']\n",
      "  kwargs:\n",
      "    shift: [0.2, 0.2, 0.2]\n",
      "feature_keys: pos\n",
      "num_points: 1024\n",
      "dataset:\n",
      "  common:\n",
      "    NAME: ModelNet40Ply2048\n",
      "    data_dir: ./data/ModelNet40Ply2048\n",
      "  train:\n",
      "    split: train\n",
      "    num_points: 1024\n",
      "  val:\n",
      "    split: test\n",
      "    num_points: 1024\n",
      "batch_size: 32\n",
      "dataloader:\n",
      "  num_workers: 6\n",
      "num_classes: 40\n",
      "sched: cosine\n",
      "warmup_epochs: 0\n",
      "min_lr: None\n",
      "lr: 0.001\n",
      "optimizer:\n",
      "  NAME: adamw\n",
      "  weight_decay: 0.05\n",
      "log_dir: log/modelnet40ply2048\\modelnet40ply2048-train-pointnext-s-ngpus1-seed350-20240417-104017-X2664SgbpVBX4cd5W3vCPm\n",
      "val_batch_size: 64\n",
      "model:\n",
      "  NAME: BaseCls\n",
      "  encoder_args:\n",
      "    NAME: PointNextEncoder\n",
      "    blocks: [1, 1, 1, 1, 1, 1]\n",
      "    strides: [1, 2, 2, 2, 2, 1]\n",
      "    width: 32\n",
      "    in_channels: 3\n",
      "    radius: 0.15\n",
      "    radius_scaling: 1.5\n",
      "    sa_layers: 2\n",
      "    sa_use_res: True\n",
      "    nsample: 32\n",
      "    expansion: 4\n",
      "    aggr_args:\n",
      "      feature_type: dp_fj\n",
      "      reduction: max\n",
      "    group_args:\n",
      "      NAME: ballquery\n",
      "      normalize_dp: True\n",
      "    conv_args:\n",
      "      order: conv-norm-act\n",
      "    act_args:\n",
      "      act: relu\n",
      "    norm_args:\n",
      "      norm: bn\n",
      "  cls_args:\n",
      "    NAME: ClsHead\n",
      "    num_classes: 40\n",
      "    mlps: [512, 256]\n",
      "    norm_args:\n",
      "      norm: bn1d\n",
      "rank: 0\n",
      "distributed: False\n",
      "mp: False\n",
      "task_name: modelnet40ply2048\n",
      "exp_name: pointnext-s\n",
      "opts: \n",
      "run_name: modelnet40ply2048-train-pointnext-s-ngpus1-seed350-20240417-104017-X2664SgbpVBX4cd5W3vCPm\n",
      "run_dir: log/modelnet40ply2048\\modelnet40ply2048-train-pointnext-s-ngpus1-seed350-20240417-104017-X2664SgbpVBX4cd5W3vCPm\n",
      "exp_dir: log/modelnet40ply2048\\modelnet40ply2048-train-pointnext-s-ngpus1-seed350-20240417-104017-X2664SgbpVBX4cd5W3vCPm\n",
      "ckpt_dir: log/modelnet40ply2048\\modelnet40ply2048-train-pointnext-s-ngpus1-seed350-20240417-104017-X2664SgbpVBX4cd5W3vCPm\\checkpoint\n",
      "log_path: log/modelnet40ply2048\\modelnet40ply2048-train-pointnext-s-ngpus1-seed350-20240417-104017-X2664SgbpVBX4cd5W3vCPm\\modelnet40ply2048-train-pointnext-s-ngpus1-seed350-20240417-104017-X2664SgbpVBX4cd5W3vCPm.log\n",
      "cfg_path: log/modelnet40ply2048\\modelnet40ply2048-train-pointnext-s-ngpus1-seed350-20240417-104017-X2664SgbpVBX4cd5W3vCPm\\cfg.yaml\n",
      "[04/17 10:40:17] ModelNet40Ply2048 INFO: radius: [[0.15], [0.15], [0.22499999999999998], [0.33749999999999997], [0.50625], [0.7593749999999999]],\n",
      " nsample: [[32], [32], [32], [32], [32], [32]]\n",
      "[04/17 10:40:17] ModelNet40Ply2048 INFO: NAME: ballquery\n",
      "normalize_dp: True\n",
      "radius: 0.15\n",
      "nsample: 32\n",
      "[04/17 10:40:17] ModelNet40Ply2048 INFO: NAME: ballquery\n",
      "normalize_dp: True\n",
      "radius: 0.22499999999999998\n",
      "nsample: 32\n",
      "[04/17 10:40:17] ModelNet40Ply2048 INFO: NAME: ballquery\n",
      "normalize_dp: True\n",
      "radius: 0.33749999999999997\n",
      "nsample: 32\n",
      "[04/17 10:40:17] ModelNet40Ply2048 INFO: NAME: ballquery\n",
      "normalize_dp: True\n",
      "radius: 0.50625\n",
      "nsample: 32\n",
      "[04/17 10:40:17] ModelNet40Ply2048 INFO: NAME: ballquery\n",
      "normalize_dp: True\n",
      "radius: None\n",
      "nsample: None\n",
      "\n"
     ]
    }
   ],
   "source": [
    "first_file = os.listdir(log_path)[-1]\n",
    "first_file\n",
    "full_path = os.path.join(log_path, first_file)\n",
    "\n",
    "os.listdir(log_path)\n",
    "\n",
    "\n",
    "file = open(full_path)\n",
    "data = file.read()\n",
    "\n",
    "print(data)\n",
    "file.close()"
   ]
  },
  {
   "cell_type": "code",
   "execution_count": 111,
   "metadata": {},
   "outputs": [
    {
     "name": "stdout",
     "output_type": "stream",
     "text": [
      "Found 5 classes\n",
      "Class to Index Mapping: {'CFD-AF-200-228-N': 0, 'CFD-AF-201-060-N': 1, 'CFD-AF-202-122-N': 2, 'CFD-AF-203-077-N': 3, 'CFD-AF-204-067-N': 4}\n"
     ]
    }
   ],
   "source": [
    "import os\n",
    "from torch.utils.data import Dataset, DataLoader\n",
    "\n",
    "class CustomDataset(Dataset):\n",
    "    def __init__(self, path_to_data, num_samples=1):\n",
    "        if not os.path.exists(path_to_data):\n",
    "            raise FileNotFoundError(\"The path does not exist\")\n",
    "        \n",
    "        self.num_samples = num_samples\n",
    "        self.datadir = path_to_data\n",
    "        self.absolute_path = os.path.join(os.getcwd(), self.datadir)\n",
    "        self.labels = self.find_classes()\n",
    "        self.data = self.create_data()\n",
    "        \n",
    "        print(\"Found {} classes\".format(self.__len__()))\n",
    "        \n",
    "        # Create class-to-index mapping\n",
    "        self.class_to_idx = {class_: idx for idx, class_ in enumerate(self.labels)}\n",
    "            \n",
    "    def find_classes(self):\n",
    "        directories = os.listdir(self.datadir)\n",
    "        return [x for x in directories if os.path.isdir(os.path.join(self.absolute_path, x))][:self.num_samples]\n",
    "        \n",
    "    def create_data(self):\n",
    "        data = []\n",
    "        for class_ in self.labels:\n",
    "            obj_path = os.path.join(self.absolute_path, class_, class_ + '.obj')\n",
    "            _, pc_array = obj2pcl.convert(obj_path)\n",
    "            data.append(pc_array)\n",
    "        return data\n",
    "            \n",
    "    def __len__(self):\n",
    "        return len(self.data)\n",
    "    \n",
    "    def __getitem__(self, index):\n",
    "        return self.data[index], self.class_to_idx[self.labels[index]]\n",
    "\n",
    "dest = os.path.join(\"neutral_images_3d\")\n",
    "\n",
    "# Create an instance of CustomDataset\n",
    "dataset = CustomDataset(dest, num_samples=5)\n",
    "\n",
    "# Create a DataLoader\n",
    "dataloader = DataLoader(dataset, batch_size=2, shuffle=True)\n",
    "\n",
    "# Print the class-to-index mapping\n",
    "print(\"Class to Index Mapping:\", dataset.class_to_idx)"
   ]
  },
  {
   "cell_type": "code",
   "execution_count": 21,
   "metadata": {},
   "outputs": [
    {
     "data": {
      "text/plain": [
       "'CFD-AF-200-228-N'"
      ]
     },
     "execution_count": 21,
     "metadata": {},
     "output_type": "execute_result"
    }
   ],
   "source": [
    "os.listdir(\"neutral_images_3d\")[0]"
   ]
  },
  {
   "cell_type": "code",
   "execution_count": 33,
   "metadata": {},
   "outputs": [
    {
     "data": {
      "text/plain": [
       "True"
      ]
     },
     "execution_count": 33,
     "metadata": {},
     "output_type": "execute_result"
    }
   ],
   "source": [
    "absolute_path = os.path.join(os.getcwd(), \"neutral_images_3d\")\n",
    "\n",
    "os.path.isdir(os.path.join(absolute_path, os.listdir(\"neutral_images_3d\")[0]))"
   ]
  },
  {
   "cell_type": "code",
   "execution_count": 23,
   "metadata": {},
   "outputs": [
    {
     "data": {
      "text/plain": [
       "False"
      ]
     },
     "execution_count": 23,
     "metadata": {},
     "output_type": "execute_result"
    }
   ],
   "source": [
    "os.path.exists('CFD-AF-200-228-N')"
   ]
  },
  {
   "cell_type": "code",
   "execution_count": 113,
   "metadata": {},
   "outputs": [],
   "source": [
    "inpt, label = next(iter(dataloader))"
   ]
  },
  {
   "cell_type": "code",
   "execution_count": 119,
   "metadata": {},
   "outputs": [
    {
     "data": {
      "text/plain": [
       "tensor([0, 4])"
      ]
     },
     "execution_count": 119,
     "metadata": {},
     "output_type": "execute_result"
    }
   ],
   "source": [
    "label"
   ]
  },
  {
   "cell_type": "code",
   "execution_count": null,
   "metadata": {},
   "outputs": [],
   "source": []
  }
 ],
 "metadata": {
  "kernelspec": {
   "display_name": "Python 3 (ipykernel)",
   "language": "python",
   "name": "python3"
  },
  "language_info": {
   "codemirror_mode": {
    "name": "ipython",
    "version": 3
   },
   "file_extension": ".py",
   "mimetype": "text/x-python",
   "name": "python",
   "nbconvert_exporter": "python",
   "pygments_lexer": "ipython3",
   "version": "3.7.5"
  }
 },
 "nbformat": 4,
 "nbformat_minor": 2
}
