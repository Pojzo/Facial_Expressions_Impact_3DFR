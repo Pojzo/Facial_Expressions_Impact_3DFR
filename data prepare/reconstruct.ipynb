{
 "cells": [
  {
   "cell_type": "code",
   "execution_count": 1,
   "id": "16a1569c",
   "metadata": {},
   "outputs": [
    {
     "name": "stderr",
     "output_type": "stream",
     "text": [
      "c:\\python37\\lib\\site-packages\\torchvision\\io\\image.py:13: UserWarning: Failed to load image Python extension: [WinError 127] The specified procedure could not be found\n",
      "  warn(f\"Failed to load image Python extension: {e}\")\n"
     ]
    }
   ],
   "source": [
    "\"\"\"\n",
    "@author Peter Kovac\n",
    "\"\"\"\n",
    "\n",
    "\n",
    "import os, sys\n",
    "import cv2\n",
    "import numpy as np\n",
    "from time import time\n",
    "import argparse\n",
    "import torch\n",
    "\n",
    "sys.path.insert(0, os.path.abspath('../DECA/'))\n",
    "\n",
    "from decalib.deca import DECA\n",
    "from decalib.datasets import datasets \n",
    "from decalib.utils import util\n",
    "from decalib.utils.config import cfg as deca_cfg\n",
    "from tqdm import tqdm\n"
   ]
  },
  {
   "cell_type": "code",
   "execution_count": 2,
   "id": "112334de",
   "metadata": {},
   "outputs": [
    {
     "name": "stderr",
     "output_type": "stream",
     "text": [
      "c:\\python37\\lib\\site-packages\\torchvision\\models\\_utils.py:209: UserWarning: The parameter 'pretrained' is deprecated since 0.13 and may be removed in the future, please use 'weights' instead.\n",
      "  f\"The parameter '{pretrained_param}' is deprecated since 0.13 and may be removed in the future, \"\n",
      "c:\\python37\\lib\\site-packages\\torchvision\\models\\_utils.py:223: UserWarning: Arguments other than a weight enum or `None` for 'weights' are deprecated since 0.13 and may be removed in the future. The current behavior is equivalent to passing `weights=None`.\n",
      "  warnings.warn(msg)\n"
     ]
    },
    {
     "name": "stdout",
     "output_type": "stream",
     "text": [
      "creating the FLAME Decoder\n",
      "trained model found. load c:\\Users\\pojzi\\Programovanie\\bakalarka\\DECA\\data\\deca_model.tar\n"
     ]
    }
   ],
   "source": [
    "from config import DECAConfig\n",
    "\n",
    "config = DECAConfig()\n",
    "config.inputpath = \"./data/neutral_images/\"\n",
    "config.savefolder = \"./data/neutral_images_3d\"\n",
    "config.saveDepth = True\n",
    "config.rasterizer_type = \"pytorch3d\"\n",
    "config.saveObj = True\n",
    "config.useTex = True\n",
    "config.saveVis = False\n",
    "config.render_orig = False\n",
    "\n",
    "deca_cfg.model.use_text = True\n",
    "deca_cfg.rasterizer_type = \"pytorch3d\"\n",
    "deca_cfg.model.extract_tex = True\n",
    "\n",
    "deca = DECA(config=deca_cfg, device=config.device)"
   ]
  },
  {
   "cell_type": "code",
   "execution_count": 3,
   "id": "ed6edc3a",
   "metadata": {},
   "outputs": [],
   "source": [
    "os.makedirs(config.savefolder, exist_ok=True)"
   ]
  },
  {
   "cell_type": "code",
   "execution_count": 4,
   "id": "331e21be",
   "metadata": {},
   "outputs": [],
   "source": [
    "import glob\n",
    "\n",
    "images = glob.glob(config.inputpath + \"*.jpg\")"
   ]
  },
  {
   "cell_type": "code",
   "execution_count": 6,
   "id": "d3abdaf1",
   "metadata": {},
   "outputs": [],
   "source": [
    "start = 100\n",
    "end = 105\n",
    "images = images[start:end]\n",
    "device = torch.device('cuda') if torch.cuda.is_available() else torch.device('cpu')"
   ]
  },
  {
   "cell_type": "code",
   "execution_count": 7,
   "id": "ccbc78a8",
   "metadata": {},
   "outputs": [
    {
     "name": "stderr",
     "output_type": "stream",
     "text": [
      "  0%|          | 0/5 [00:00<?, ?it/s]c:\\Users\\pojzi\\.conda\\envs\\openpoints\\lib\\site-packages\\torch\\nn\\functional.py:3635: UserWarning: Default upsampling behavior when mode=bilinear is changed to align_corners=False since 0.4.0. Please specify align_corners=True if the old behavior is desired. See the documentation of nn.Upsample for details.\n",
      "  \"See the documentation of nn.Upsample for details.\".format(mode)\n",
      "100%|██████████| 5/5 [00:22<00:00,  4.53s/it]\n"
     ]
    }
   ],
   "source": [
    "savefolder = config.savefolder\n",
    "args = config\n",
    "\n",
    "testdata = datasets.TestData(config.inputpath, iscrop=config.iscrop, face_detector=config.detector, sample_step=config.sample_step)\n",
    "\n",
    "for i in tqdm(range(start, end)):\n",
    "#     name = testdata[i]['imagename']\n",
    "    name = testdata[i]['imagename']\n",
    "    images = testdata[i]['image'].to(device)[None,...]\n",
    "    with torch.no_grad():\n",
    "        codedict = deca.encode(images)\n",
    "        opdict, visdict = deca.decode(codedict) #tensor\n",
    "        if args.render_orig:\n",
    "            tform = testdata[i]['tform'][None, ...]\n",
    "            tform = torch.inverse(tform).transpose(1,2).to(device)\n",
    "            original_image = testdata[i]['original_image'][None, ...].to(device)\n",
    "            _, orig_visdict = deca.decode(codedict, render_orig=True, original_image=original_image, tform=tform)    \n",
    "            orig_visdict['inputs'] = original_image            \n",
    "\n",
    "    if args.saveDepth or args.saveKpt or args.saveObj or args.saveMat or args.saveImages:\n",
    "        os.makedirs(os.path.join(savefolder, name), exist_ok=True)\n",
    "    # -- save results\n",
    "    if args.saveDepth:\n",
    "        depth_image = deca.render.render_depth(opdict['trans_verts']).repeat(1,3,1,1)\n",
    "        visdict['depth_images'] = depth_image\n",
    "        cv2.imwrite(os.path.join(savefolder, name, name + '_depth.jpg'), util.tensor2image(depth_image[0]))\n",
    "    if args.saveKpt:\n",
    "        np.savetxt(os.path.join(savefolder, name, name + '_kpt2d.txt'), opdict['landmarks2d'][0].cpu().numpy())\n",
    "        np.savetxt(os.path.join(savefolder, name, name + '_kpt3d.txt'), opdict['landmarks3d'][0].cpu().numpy())\n",
    "    if args.saveObj:\n",
    "        deca.save_obj(os.path.join(savefolder, name, name + '.obj'), opdict)\n",
    "    if args.saveMat:\n",
    "        opdict = util.dict_tensor2npy(opdict)\n",
    "        savemat(os.path.join(savefolder, name, name + '.mat'), opdict)\n",
    "    if args.saveVis:\n",
    "        cv2.imwrite(os.path.join(savefolder, name + '_vis.jpg'), deca.visualize(visdict))\n",
    "        if args.render_orig:\n",
    "            cv2.imwrite(os.path.join(savefolder, name + '_vis_original_size.jpg'), deca.visualize(orig_visdict))\n",
    "    if args.saveImages:\n",
    "        for vis_name in ['inputs', 'rendered_images', 'albedo_images', 'shape_images', 'shape_detail_images', 'landmarks2d']:\n",
    "            if vis_name not in visdict.keys():\n",
    "                continue\n",
    "            image = util.tensor2image(visdict[vis_name][0])\n",
    "            cv2.imwrite(os.path.join(savefolder, name, name + '_' + vis_name +'.jpg'), util.tensor2image(visdict[vis_name][0]))\n",
    "            if args.render_orig:\n",
    "                image = util.tensor2image(orig_visdict[vis_name][0])\n",
    "                cv2.imwrite(os.path.join(savefolder, name, 'orig_' + name + '_' + vis_name +'.jpg'), util.tensor2image(orig_visdict[vis_name][0]))"
   ]
  },
  {
   "cell_type": "code",
   "execution_count": 47,
   "id": "0a4a11f0",
   "metadata": {},
   "outputs": [
    {
     "data": {
      "text/plain": [
       "torch.Size([1, 1718, 2444, 3])"
      ]
     },
     "execution_count": 47,
     "metadata": {},
     "output_type": "execute_result"
    }
   ],
   "source": [
    "images_gpu.shape"
   ]
  },
  {
   "cell_type": "code",
   "execution_count": 52,
   "id": "1143942f",
   "metadata": {},
   "outputs": [
    {
     "data": {
      "text/plain": [
       "831"
      ]
     },
     "execution_count": 52,
     "metadata": {},
     "output_type": "execute_result"
    }
   ],
   "source": [
    "len(testdata)"
   ]
  },
  {
   "cell_type": "code",
   "execution_count": null,
   "id": "015007ac",
   "metadata": {},
   "outputs": [],
   "source": []
  }
 ],
 "metadata": {
  "kernelspec": {
   "display_name": "Python 3 (ipykernel)",
   "language": "python",
   "name": "python3"
  },
  "language_info": {
   "codemirror_mode": {
    "name": "ipython",
    "version": 3
   },
   "file_extension": ".py",
   "mimetype": "text/x-python",
   "name": "python",
   "nbconvert_exporter": "python",
   "pygments_lexer": "ipython3",
   "version": "3.7.5"
  }
 },
 "nbformat": 4,
 "nbformat_minor": 5
}
